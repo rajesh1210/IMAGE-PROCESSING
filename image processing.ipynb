{
 "cells": [
  {
   "cell_type": "code",
   "execution_count": 1,
   "metadata": {},
   "outputs": [
    {
     "data": {
      "text/plain": [
       "'C:\\\\Users\\\\user'"
      ]
     },
     "execution_count": 1,
     "metadata": {},
     "output_type": "execute_result"
    }
   ],
   "source": [
    "import os\n",
    "os.getcwd()"
   ]
  },
  {
   "cell_type": "code",
   "execution_count": 2,
   "metadata": {},
   "outputs": [],
   "source": [
    "os.chdir(\"F:\\Afitech PPML Datasets\\dataset\\dataset\")"
   ]
  },
  {
   "cell_type": "code",
   "execution_count": 3,
   "metadata": {},
   "outputs": [
    {
     "data": {
      "text/plain": [
       "'F:\\\\Afitech PPML Datasets\\\\dataset\\\\dataset'"
      ]
     },
     "execution_count": 3,
     "metadata": {},
     "output_type": "execute_result"
    }
   ],
   "source": [
    "os.getcwd()"
   ]
  },
  {
   "cell_type": "code",
   "execution_count": 4,
   "metadata": {},
   "outputs": [],
   "source": [
    "import tensorflow as tf"
   ]
  },
  {
   "cell_type": "code",
   "execution_count": 5,
   "metadata": {},
   "outputs": [
    {
     "name": "stdout",
     "output_type": "stream",
     "text": [
      "b'Hello TF !!'\n"
     ]
    }
   ],
   "source": [
    "tf.compat.v1.disable_eager_execution()\n",
    "hello = tf.constant(\"Hello TF !!\")\n",
    "sess = tf.compat.v1.Session()\n",
    "print(sess.run(hello))"
   ]
  },
  {
   "cell_type": "code",
   "execution_count": 6,
   "metadata": {},
   "outputs": [
    {
     "name": "stderr",
     "output_type": "stream",
     "text": [
      "Using TensorFlow backend.\n"
     ]
    }
   ],
   "source": [
    "import keras"
   ]
  },
  {
   "cell_type": "code",
   "execution_count": 7,
   "metadata": {},
   "outputs": [],
   "source": [
    "# Importing the Keras libraries and packages\n",
    "from keras.models import Sequential\n",
    "\n",
    "from keras.layers import Conv2D\n",
    "from keras.layers import MaxPooling2D\n",
    "from keras.layers import Flatten\n",
    "from keras.layers import Dense"
   ]
  },
  {
   "cell_type": "code",
   "execution_count": 8,
   "metadata": {},
   "outputs": [
    {
     "name": "stdout",
     "output_type": "stream",
     "text": [
      "WARNING:tensorflow:From C:\\ProgramData\\Anaconda3\\lib\\site-packages\\keras\\backend\\tensorflow_backend.py:74: The name tf.get_default_graph is deprecated. Please use tf.compat.v1.get_default_graph instead.\n",
      "\n"
     ]
    }
   ],
   "source": [
    "from tensorflow.keras import layers\n",
    "\n",
    "\n",
    "# Initialising the CNN\n",
    "cnn1 = Sequential()"
   ]
  },
  {
   "cell_type": "code",
   "execution_count": 9,
   "metadata": {},
   "outputs": [
    {
     "name": "stdout",
     "output_type": "stream",
     "text": [
      "WARNING:tensorflow:From C:\\ProgramData\\Anaconda3\\lib\\site-packages\\keras\\backend\\tensorflow_backend.py:517: The name tf.placeholder is deprecated. Please use tf.compat.v1.placeholder instead.\n",
      "\n",
      "WARNING:tensorflow:From C:\\ProgramData\\Anaconda3\\lib\\site-packages\\keras\\backend\\tensorflow_backend.py:4138: The name tf.random_uniform is deprecated. Please use tf.random.uniform instead.\n",
      "\n"
     ]
    }
   ],
   "source": [
    "# Step 1 - Convolution\n",
    "cnn1.add(Conv2D(32, (3, 3), input_shape = (64, 64, 3), activation = 'relu'))\n"
   ]
  },
  {
   "cell_type": "code",
   "execution_count": 10,
   "metadata": {},
   "outputs": [
    {
     "name": "stdout",
     "output_type": "stream",
     "text": [
      "WARNING:tensorflow:From C:\\ProgramData\\Anaconda3\\lib\\site-packages\\keras\\backend\\tensorflow_backend.py:3976: The name tf.nn.max_pool is deprecated. Please use tf.nn.max_pool2d instead.\n",
      "\n"
     ]
    }
   ],
   "source": [
    "# Step 2 - Pooling\n",
    "cnn1.add(MaxPooling2D(pool_size = (2, 2)))"
   ]
  },
  {
   "cell_type": "code",
   "execution_count": 11,
   "metadata": {},
   "outputs": [],
   "source": [
    "# Adding a second convolutional layer\n",
    "cnn1.add(Conv2D(32, (3, 3), activation = 'relu'))\n",
    "cnn1.add(MaxPooling2D(pool_size = (2, 2)))"
   ]
  },
  {
   "cell_type": "code",
   "execution_count": 12,
   "metadata": {},
   "outputs": [],
   "source": [
    "# Step 3 - Flattening\n",
    "cnn1.add(Flatten())"
   ]
  },
  {
   "cell_type": "code",
   "execution_count": 13,
   "metadata": {},
   "outputs": [],
   "source": [
    "# Step 4 - Full connection\n",
    "cnn1.add(Dense(units = 128, activation = 'relu'))\n",
    "cnn1.add(Dense(units = 1, activation = 'sigmoid'))"
   ]
  },
  {
   "cell_type": "code",
   "execution_count": 14,
   "metadata": {},
   "outputs": [
    {
     "name": "stdout",
     "output_type": "stream",
     "text": [
      "WARNING:tensorflow:From C:\\ProgramData\\Anaconda3\\lib\\site-packages\\keras\\optimizers.py:790: The name tf.train.Optimizer is deprecated. Please use tf.compat.v1.train.Optimizer instead.\n",
      "\n",
      "WARNING:tensorflow:From C:\\ProgramData\\Anaconda3\\lib\\site-packages\\keras\\backend\\tensorflow_backend.py:3376: The name tf.log is deprecated. Please use tf.math.log instead.\n",
      "\n",
      "WARNING:tensorflow:From C:\\ProgramData\\Anaconda3\\lib\\site-packages\\tensorflow_core\\python\\ops\\nn_impl.py:183: where (from tensorflow.python.ops.array_ops) is deprecated and will be removed in a future version.\n",
      "Instructions for updating:\n",
      "Use tf.where in 2.0, which has the same broadcast rule as np.where\n"
     ]
    }
   ],
   "source": [
    "# Compiling the CNN\n",
    "cnn1.compile(optimizer ='adam', loss = 'binary_crossentropy', metrics = ['accuracy'])"
   ]
  },
  {
   "cell_type": "code",
   "execution_count": 15,
   "metadata": {},
   "outputs": [],
   "source": [
    "# Part 2 - Fitting the CNN to the images\n",
    "\n",
    "from keras.preprocessing.image import ImageDataGenerator"
   ]
  },
  {
   "cell_type": "code",
   "execution_count": 16,
   "metadata": {},
   "outputs": [],
   "source": [
    "train_datagen = ImageDataGenerator(rescale = 1./255,\n",
    "                                   shear_range = 0.2,\n",
    "                                   zoom_range = 0.2,\n",
    "                                   horizontal_flip = True)"
   ]
  },
  {
   "cell_type": "code",
   "execution_count": 17,
   "metadata": {},
   "outputs": [],
   "source": [
    "test_datagen = ImageDataGenerator(rescale = 1./255)"
   ]
  },
  {
   "cell_type": "code",
   "execution_count": 18,
   "metadata": {},
   "outputs": [
    {
     "name": "stdout",
     "output_type": "stream",
     "text": [
      "Found 8000 images belonging to 2 classes.\n"
     ]
    }
   ],
   "source": [
    "training_set = train_datagen.flow_from_directory('training_set',\n",
    "                                                 target_size = (64, 64),\n",
    "                                                 batch_size = 32,\n",
    "                                                 class_mode = 'binary')"
   ]
  },
  {
   "cell_type": "code",
   "execution_count": 19,
   "metadata": {},
   "outputs": [
    {
     "name": "stdout",
     "output_type": "stream",
     "text": [
      "Found 2000 images belonging to 2 classes.\n"
     ]
    }
   ],
   "source": [
    "test_set = test_datagen.flow_from_directory('test_set',\n",
    "                                            target_size = (64, 64),\n",
    "                                            batch_size = 32,\n",
    "                                            class_mode = 'binary')"
   ]
  },
  {
   "cell_type": "code",
   "execution_count": 20,
   "metadata": {},
   "outputs": [
    {
     "name": "stdout",
     "output_type": "stream",
     "text": [
      "WARNING:tensorflow:From C:\\ProgramData\\Anaconda3\\lib\\site-packages\\keras\\backend\\tensorflow_backend.py:986: The name tf.assign_add is deprecated. Please use tf.compat.v1.assign_add instead.\n",
      "\n",
      "WARNING:tensorflow:From C:\\ProgramData\\Anaconda3\\lib\\site-packages\\keras\\backend\\tensorflow_backend.py:973: The name tf.assign is deprecated. Please use tf.compat.v1.assign instead.\n",
      "\n",
      "WARNING:tensorflow:From C:\\ProgramData\\Anaconda3\\lib\\site-packages\\keras\\backend\\tensorflow_backend.py:2741: The name tf.Session is deprecated. Please use tf.compat.v1.Session instead.\n",
      "\n",
      "Epoch 1/30\n",
      "WARNING:tensorflow:From C:\\ProgramData\\Anaconda3\\lib\\site-packages\\keras\\backend\\tensorflow_backend.py:174: The name tf.get_default_session is deprecated. Please use tf.compat.v1.get_default_session instead.\n",
      "\n",
      "WARNING:tensorflow:From C:\\ProgramData\\Anaconda3\\lib\\site-packages\\keras\\backend\\tensorflow_backend.py:181: The name tf.ConfigProto is deprecated. Please use tf.compat.v1.ConfigProto instead.\n",
      "\n",
      "WARNING:tensorflow:From C:\\ProgramData\\Anaconda3\\lib\\site-packages\\keras\\backend\\tensorflow_backend.py:190: The name tf.global_variables is deprecated. Please use tf.compat.v1.global_variables instead.\n",
      "\n",
      "WARNING:tensorflow:From C:\\ProgramData\\Anaconda3\\lib\\site-packages\\keras\\backend\\tensorflow_backend.py:199: The name tf.is_variable_initialized is deprecated. Please use tf.compat.v1.is_variable_initialized instead.\n",
      "\n",
      "WARNING:tensorflow:From C:\\ProgramData\\Anaconda3\\lib\\site-packages\\keras\\backend\\tensorflow_backend.py:206: The name tf.variables_initializer is deprecated. Please use tf.compat.v1.variables_initializer instead.\n",
      "\n",
      "250/250 [==============================] - 73s 293ms/step - loss: 0.6785 - acc: 0.5639 - val_loss: 0.6148 - val_acc: 0.6703\n",
      "Epoch 2/30\n",
      "250/250 [==============================] - 46s 185ms/step - loss: 0.6022 - acc: 0.6771 - val_loss: 0.5934 - val_acc: 0.6766\n",
      "Epoch 3/30\n",
      "250/250 [==============================] - 46s 186ms/step - loss: 0.5637 - acc: 0.7126 - val_loss: 0.5664 - val_acc: 0.7125\n",
      "Epoch 4/30\n",
      "250/250 [==============================] - 46s 182ms/step - loss: 0.5313 - acc: 0.7340 - val_loss: 0.5047 - val_acc: 0.7532\n",
      "Epoch 5/30\n",
      "250/250 [==============================] - 47s 187ms/step - loss: 0.5076 - acc: 0.7519 - val_loss: 0.5350 - val_acc: 0.7312\n",
      "Epoch 6/30\n",
      "250/250 [==============================] - 48s 192ms/step - loss: 0.4922 - acc: 0.7601 - val_loss: 0.5272 - val_acc: 0.7484\n",
      "Epoch 7/30\n",
      "250/250 [==============================] - 46s 185ms/step - loss: 0.4819 - acc: 0.7695 - val_loss: 0.4750 - val_acc: 0.7708\n",
      "Epoch 8/30\n",
      "250/250 [==============================] - 46s 185ms/step - loss: 0.4670 - acc: 0.7795 - val_loss: 0.4724 - val_acc: 0.7562\n",
      "Epoch 9/30\n",
      "250/250 [==============================] - 46s 186ms/step - loss: 0.4424 - acc: 0.7931 - val_loss: 0.4646 - val_acc: 0.7625\n",
      "Epoch 10/30\n",
      "250/250 [==============================] - 46s 184ms/step - loss: 0.4322 - acc: 0.7965 - val_loss: 0.4995 - val_acc: 0.7660\n",
      "Epoch 11/30\n",
      "250/250 [==============================] - 47s 189ms/step - loss: 0.4259 - acc: 0.7969 - val_loss: 0.4600 - val_acc: 0.7812\n",
      "Epoch 12/30\n",
      "250/250 [==============================] - 52s 207ms/step - loss: 0.4251 - acc: 0.7996 - val_loss: 0.5028 - val_acc: 0.7937\n",
      "Epoch 13/30\n",
      "250/250 [==============================] - 46s 185ms/step - loss: 0.4074 - acc: 0.8077 - val_loss: 0.4981 - val_acc: 0.7788\n",
      "Epoch 14/30\n",
      "250/250 [==============================] - 47s 186ms/step - loss: 0.3980 - acc: 0.8199 - val_loss: 0.4553 - val_acc: 0.7969\n",
      "Epoch 15/30\n",
      "250/250 [==============================] - 51s 203ms/step - loss: 0.3979 - acc: 0.8129 - val_loss: 0.4747 - val_acc: 0.7906\n",
      "Epoch 16/30\n",
      "250/250 [==============================] - 47s 187ms/step - loss: 0.3816 - acc: 0.8270 - val_loss: 0.4575 - val_acc: 0.8093\n",
      "Epoch 17/30\n",
      "250/250 [==============================] - 46s 185ms/step - loss: 0.3751 - acc: 0.8262 - val_loss: 0.4911 - val_acc: 0.8187\n",
      "Epoch 18/30\n",
      "250/250 [==============================] - 94s 375ms/step - loss: 0.3679 - acc: 0.8322 - val_loss: 0.4225 - val_acc: 0.8172\n",
      "Epoch 19/30\n",
      "250/250 [==============================] - 107s 427ms/step - loss: 0.3708 - acc: 0.8340 - val_loss: 0.4643 - val_acc: 0.7564\n",
      "Epoch 20/30\n",
      "250/250 [==============================] - 60s 238ms/step - loss: 0.3606 - acc: 0.8402 - val_loss: 0.4405 - val_acc: 0.7984\n",
      "Epoch 21/30\n",
      "250/250 [==============================] - 50s 201ms/step - loss: 0.3502 - acc: 0.8395 - val_loss: 0.4558 - val_acc: 0.8047\n",
      "Epoch 22/30\n",
      "250/250 [==============================] - 72s 289ms/step - loss: 0.3397 - acc: 0.8480 - val_loss: 0.4735 - val_acc: 0.7937\n",
      "Epoch 23/30\n",
      "250/250 [==============================] - 50s 201ms/step - loss: 0.3339 - acc: 0.8530 - val_loss: 0.4053 - val_acc: 0.8317\n",
      "Epoch 24/30\n",
      "250/250 [==============================] - 50s 200ms/step - loss: 0.3318 - acc: 0.8509 - val_loss: 0.4430 - val_acc: 0.7875\n",
      "Epoch 25/30\n",
      "250/250 [==============================] - 51s 204ms/step - loss: 0.3179 - acc: 0.8604 - val_loss: 0.5012 - val_acc: 0.7953\n",
      "Epoch 26/30\n",
      "250/250 [==============================] - 49s 194ms/step - loss: 0.3029 - acc: 0.8645 - val_loss: 0.5225 - val_acc: 0.7756\n",
      "Epoch 27/30\n",
      "250/250 [==============================] - 71s 284ms/step - loss: 0.2920 - acc: 0.8721 - val_loss: 0.5020 - val_acc: 0.7859\n",
      "Epoch 28/30\n",
      "250/250 [==============================] - 71s 284ms/step - loss: 0.2948 - acc: 0.8706 - val_loss: 0.4193 - val_acc: 0.8313\n",
      "Epoch 29/30\n",
      "250/250 [==============================] - 70s 281ms/step - loss: 0.2854 - acc: 0.8765 - val_loss: 0.4783 - val_acc: 0.7756\n",
      "Epoch 30/30\n",
      "250/250 [==============================] - 132s 529ms/step - loss: 0.2825 - acc: 0.8741 - val_loss: 0.4590 - val_acc: 0.8063\n"
     ]
    },
    {
     "data": {
      "text/plain": [
       "<keras.callbacks.History at 0x26deb6f7648>"
      ]
     },
     "execution_count": 20,
     "metadata": {},
     "output_type": "execute_result"
    }
   ],
   "source": [
    "cnn1.fit_generator(training_set, epochs = 30,  steps_per_epoch=250,\\\n",
    "                   validation_data = test_set, \\\n",
    "                   validation_steps = 20)"
   ]
  },
  {
   "cell_type": "code",
   "execution_count": 24,
   "metadata": {},
   "outputs": [
    {
     "name": "stdout",
     "output_type": "stream",
     "text": [
      "dog\n"
     ]
    }
   ],
   "source": [
    "import numpy as np\n",
    "\n",
    "from keras.preprocessing import image\n",
    "test_image = image.load_img('abc.jpeg', target_size = (64,64))\n",
    "test_image = image.img_to_array(test_image)\n",
    "test_image = np.expand_dims(test_image, axis=0)\n",
    "result = cnn1.predict(test_image)\n",
    "\n",
    "training_set.class_indices\n",
    "if result >= 0.5 :\n",
    "    prediction = 'dog'\n",
    "else :\n",
    "    prediction = 'cat'\n",
    "    \n",
    "print(prediction)"
   ]
  },
  {
   "cell_type": "code",
   "execution_count": null,
   "metadata": {},
   "outputs": [],
   "source": []
  },
  {
   "cell_type": "code",
   "execution_count": null,
   "metadata": {},
   "outputs": [],
   "source": []
  },
  {
   "cell_type": "code",
   "execution_count": null,
   "metadata": {},
   "outputs": [],
   "source": []
  }
 ],
 "metadata": {
  "kernelspec": {
   "display_name": "Python 3",
   "language": "python",
   "name": "python3"
  },
  "language_info": {
   "codemirror_mode": {
    "name": "ipython",
    "version": 3
   },
   "file_extension": ".py",
   "mimetype": "text/x-python",
   "name": "python",
   "nbconvert_exporter": "python",
   "pygments_lexer": "ipython3",
   "version": "3.7.4"
  }
 },
 "nbformat": 4,
 "nbformat_minor": 2
}
